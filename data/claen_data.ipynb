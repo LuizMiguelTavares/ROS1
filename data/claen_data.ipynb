{
 "cells": [
  {
   "cell_type": "code",
   "execution_count": 1,
   "metadata": {},
   "outputs": [],
   "source": [
    "import pandas as pd\n",
    "import numpy as np\n",
    "import matplotlib.pyplot as plt"
   ]
  },
  {
   "cell_type": "code",
   "execution_count": 2,
   "metadata": {},
   "outputs": [],
   "source": [
    "# Example with additional parameters\n",
    "circular_path = pd.read_csv('circular_path_data.csv', delimiter=',', encoding='utf-8', header=0)\n",
    "pioneer_odom = pd.read_csv('pioneer_odom.csv', delimiter=',', encoding='utf-8', header=0)\n",
    "obstacle_odom = pd.read_csv('obstacle_odom.csv', delimiter=',', encoding='utf-8', header=0)\n",
    "obstacle_detection_pioneer = pd.read_csv('obstacle_detection_pioneer.csv', delimiter=',', encoding='utf-8', header=0)"
   ]
  },
  {
   "cell_type": "code",
   "execution_count": 3,
   "metadata": {},
   "outputs": [
    {
     "data": {
      "text/html": [
       "<div>\n",
       "<style scoped>\n",
       "    .dataframe tbody tr th:only-of-type {\n",
       "        vertical-align: middle;\n",
       "    }\n",
       "\n",
       "    .dataframe tbody tr th {\n",
       "        vertical-align: top;\n",
       "    }\n",
       "\n",
       "    .dataframe thead th {\n",
       "        text-align: right;\n",
       "    }\n",
       "</style>\n",
       "<table border=\"1\" class=\"dataframe\">\n",
       "  <thead>\n",
       "    <tr style=\"text-align: right;\">\n",
       "      <th></th>\n",
       "      <th>Time</th>\n",
       "      <th>X til</th>\n",
       "      <th>X_robot_solver</th>\n",
       "      <th>Y_robot_solver</th>\n",
       "      <th>X_solver_robot</th>\n",
       "      <th>Y_solver_robot</th>\n",
       "      <th>X_robot_obs</th>\n",
       "      <th>Y_robot_obs</th>\n",
       "      <th>X_obs_robot</th>\n",
       "      <th>Y_obs_robot</th>\n",
       "      <th>X_dot</th>\n",
       "      <th>Y_dot</th>\n",
       "    </tr>\n",
       "  </thead>\n",
       "  <tbody>\n",
       "    <tr>\n",
       "      <th>0</th>\n",
       "      <td>1.688252e+09</td>\n",
       "      <td>0.327628</td>\n",
       "      <td>NaN</td>\n",
       "      <td>NaN</td>\n",
       "      <td>NaN</td>\n",
       "      <td>NaN</td>\n",
       "      <td>NaN</td>\n",
       "      <td>NaN</td>\n",
       "      <td>NaN</td>\n",
       "      <td>NaN</td>\n",
       "      <td>0.0</td>\n",
       "      <td>0.0</td>\n",
       "    </tr>\n",
       "    <tr>\n",
       "      <th>1</th>\n",
       "      <td>1.688252e+09</td>\n",
       "      <td>0.332807</td>\n",
       "      <td>NaN</td>\n",
       "      <td>NaN</td>\n",
       "      <td>NaN</td>\n",
       "      <td>NaN</td>\n",
       "      <td>NaN</td>\n",
       "      <td>NaN</td>\n",
       "      <td>NaN</td>\n",
       "      <td>NaN</td>\n",
       "      <td>0.0</td>\n",
       "      <td>0.0</td>\n",
       "    </tr>\n",
       "    <tr>\n",
       "      <th>2</th>\n",
       "      <td>1.688252e+09</td>\n",
       "      <td>0.338077</td>\n",
       "      <td>NaN</td>\n",
       "      <td>NaN</td>\n",
       "      <td>NaN</td>\n",
       "      <td>NaN</td>\n",
       "      <td>NaN</td>\n",
       "      <td>NaN</td>\n",
       "      <td>NaN</td>\n",
       "      <td>NaN</td>\n",
       "      <td>0.0</td>\n",
       "      <td>0.0</td>\n",
       "    </tr>\n",
       "    <tr>\n",
       "      <th>3</th>\n",
       "      <td>1.688252e+09</td>\n",
       "      <td>0.343294</td>\n",
       "      <td>NaN</td>\n",
       "      <td>NaN</td>\n",
       "      <td>NaN</td>\n",
       "      <td>NaN</td>\n",
       "      <td>NaN</td>\n",
       "      <td>NaN</td>\n",
       "      <td>NaN</td>\n",
       "      <td>NaN</td>\n",
       "      <td>0.0</td>\n",
       "      <td>0.0</td>\n",
       "    </tr>\n",
       "    <tr>\n",
       "      <th>4</th>\n",
       "      <td>1.688252e+09</td>\n",
       "      <td>0.345911</td>\n",
       "      <td>NaN</td>\n",
       "      <td>NaN</td>\n",
       "      <td>NaN</td>\n",
       "      <td>NaN</td>\n",
       "      <td>NaN</td>\n",
       "      <td>NaN</td>\n",
       "      <td>NaN</td>\n",
       "      <td>NaN</td>\n",
       "      <td>0.0</td>\n",
       "      <td>0.0</td>\n",
       "    </tr>\n",
       "  </tbody>\n",
       "</table>\n",
       "</div>"
      ],
      "text/plain": [
       "           Time     X til  X_robot_solver  Y_robot_solver  X_solver_robot  \\\n",
       "0  1.688252e+09  0.327628             NaN             NaN             NaN   \n",
       "1  1.688252e+09  0.332807             NaN             NaN             NaN   \n",
       "2  1.688252e+09  0.338077             NaN             NaN             NaN   \n",
       "3  1.688252e+09  0.343294             NaN             NaN             NaN   \n",
       "4  1.688252e+09  0.345911             NaN             NaN             NaN   \n",
       "\n",
       "   Y_solver_robot  X_robot_obs  Y_robot_obs  X_obs_robot  Y_obs_robot  X_dot  \\\n",
       "0             NaN          NaN          NaN          NaN          NaN    0.0   \n",
       "1             NaN          NaN          NaN          NaN          NaN    0.0   \n",
       "2             NaN          NaN          NaN          NaN          NaN    0.0   \n",
       "3             NaN          NaN          NaN          NaN          NaN    0.0   \n",
       "4             NaN          NaN          NaN          NaN          NaN    0.0   \n",
       "\n",
       "   Y_dot  \n",
       "0    0.0  \n",
       "1    0.0  \n",
       "2    0.0  \n",
       "3    0.0  \n",
       "4    0.0  "
      ]
     },
     "execution_count": 3,
     "metadata": {},
     "output_type": "execute_result"
    }
   ],
   "source": [
    "obstacle_detection_pioneer.head()"
   ]
  },
  {
   "cell_type": "code",
   "execution_count": 4,
   "metadata": {},
   "outputs": [
    {
     "data": {
      "text/plain": [
       "nan"
      ]
     },
     "execution_count": 4,
     "metadata": {},
     "output_type": "execute_result"
    }
   ],
   "source": [
    "obstacle_detection_pioneer['X_robot_solver'][0]"
   ]
  },
  {
   "cell_type": "code",
   "execution_count": 5,
   "metadata": {},
   "outputs": [
    {
     "name": "stdout",
     "output_type": "stream",
     "text": [
      "CPU times: user 228 ms, sys: 405 ms, total: 633 ms\n",
      "Wall time: 636 ms\n"
     ]
    }
   ],
   "source": [
    "%%time\n",
    "def find_closest_arg(arr, target):\n",
    "    # Expand dimensions of the array and target for broadcasting\n",
    "    arr = np.expand_dims(arr, axis=0)\n",
    "    target = np.expand_dims(target, axis=1)\n",
    "    \n",
    "    # Calculate the absolute difference between the array and the target values\n",
    "    diff = np.abs(arr - target)\n",
    "    \n",
    "    # Find the index of the minimum difference for each target value\n",
    "    closest_arg = np.argmin(diff, axis=1)\n",
    "    \n",
    "    return closest_arg\n",
    "\n",
    "\n",
    "def poda(*args, column='Time'):\n",
    "    \n",
    "    biggest_first_value = -np.inf\n",
    "    smallest_last_value = np.inf\n",
    "\n",
    "    smallest_dataset = np.inf\n",
    "\n",
    "    for arg in args:\n",
    "        length = len(arg)\n",
    "\n",
    "        if length < smallest_dataset:\n",
    "            smallest_dataset = length\n",
    "\n",
    "        if arg[column].iloc[0] > biggest_first_value:\n",
    "            biggest_first_value = arg[column].iloc[0]\n",
    "        \n",
    "        if arg[column].iloc[-1] < smallest_last_value:\n",
    "            smallest_last_value = arg[column].iloc[-1]\n",
    "    \n",
    "    times = np.linspace(biggest_first_value, smallest_last_value, num=smallest_dataset)\n",
    "    new_datasets = []\n",
    "\n",
    "    for arg in args:\n",
    "        indices = find_closest_arg(arg[column], times)\n",
    "\n",
    "        data = arg.iloc[indices]\n",
    "        data.reset_index(drop=True, inplace=True)\n",
    "        new_datasets.append(data)\n",
    "    \n",
    "    return new_datasets\n",
    "\n",
    "circular_path, pioneer_odom, obstacle_odom, obstacle_detection_pioneer = poda(circular_path, pioneer_odom, obstacle_odom, obstacle_detection_pioneer)"
   ]
  },
  {
   "cell_type": "code",
   "execution_count": 6,
   "metadata": {},
   "outputs": [
    {
     "data": {
      "text/html": [
       "<div>\n",
       "<style scoped>\n",
       "    .dataframe tbody tr th:only-of-type {\n",
       "        vertical-align: middle;\n",
       "    }\n",
       "\n",
       "    .dataframe tbody tr th {\n",
       "        vertical-align: top;\n",
       "    }\n",
       "\n",
       "    .dataframe thead th {\n",
       "        text-align: right;\n",
       "    }\n",
       "</style>\n",
       "<table border=\"1\" class=\"dataframe\">\n",
       "  <thead>\n",
       "    <tr style=\"text-align: right;\">\n",
       "      <th></th>\n",
       "      <th>Time</th>\n",
       "      <th>X</th>\n",
       "      <th>Y</th>\n",
       "      <th>VX</th>\n",
       "      <th>VY</th>\n",
       "    </tr>\n",
       "  </thead>\n",
       "  <tbody>\n",
       "    <tr>\n",
       "      <th>0</th>\n",
       "      <td>1.688252e+09</td>\n",
       "      <td>0.999229</td>\n",
       "      <td>0.039257</td>\n",
       "      <td>-0.006166</td>\n",
       "      <td>0.156959</td>\n",
       "    </tr>\n",
       "    <tr>\n",
       "      <th>1</th>\n",
       "      <td>1.688252e+09</td>\n",
       "      <td>0.999009</td>\n",
       "      <td>0.044501</td>\n",
       "      <td>-0.006990</td>\n",
       "      <td>0.156924</td>\n",
       "    </tr>\n",
       "    <tr>\n",
       "      <th>2</th>\n",
       "      <td>1.688252e+09</td>\n",
       "      <td>0.998763</td>\n",
       "      <td>0.049718</td>\n",
       "      <td>-0.007810</td>\n",
       "      <td>0.156885</td>\n",
       "    </tr>\n",
       "    <tr>\n",
       "      <th>3</th>\n",
       "      <td>1.688252e+09</td>\n",
       "      <td>0.998489</td>\n",
       "      <td>0.054951</td>\n",
       "      <td>-0.008632</td>\n",
       "      <td>0.156842</td>\n",
       "    </tr>\n",
       "    <tr>\n",
       "      <th>4</th>\n",
       "      <td>1.688252e+09</td>\n",
       "      <td>0.998188</td>\n",
       "      <td>0.060178</td>\n",
       "      <td>-0.009453</td>\n",
       "      <td>0.156795</td>\n",
       "    </tr>\n",
       "  </tbody>\n",
       "</table>\n",
       "</div>"
      ],
      "text/plain": [
       "           Time         X         Y        VX        VY\n",
       "0  1.688252e+09  0.999229  0.039257 -0.006166  0.156959\n",
       "1  1.688252e+09  0.999009  0.044501 -0.006990  0.156924\n",
       "2  1.688252e+09  0.998763  0.049718 -0.007810  0.156885\n",
       "3  1.688252e+09  0.998489  0.054951 -0.008632  0.156842\n",
       "4  1.688252e+09  0.998188  0.060178 -0.009453  0.156795"
      ]
     },
     "execution_count": 6,
     "metadata": {},
     "output_type": "execute_result"
    }
   ],
   "source": [
    "circular_path.head() "
   ]
  },
  {
   "cell_type": "code",
   "execution_count": 7,
   "metadata": {},
   "outputs": [
    {
     "data": {
      "text/html": [
       "<div>\n",
       "<style scoped>\n",
       "    .dataframe tbody tr th:only-of-type {\n",
       "        vertical-align: middle;\n",
       "    }\n",
       "\n",
       "    .dataframe tbody tr th {\n",
       "        vertical-align: top;\n",
       "    }\n",
       "\n",
       "    .dataframe thead th {\n",
       "        text-align: right;\n",
       "    }\n",
       "</style>\n",
       "<table border=\"1\" class=\"dataframe\">\n",
       "  <thead>\n",
       "    <tr style=\"text-align: right;\">\n",
       "      <th></th>\n",
       "      <th>Time</th>\n",
       "      <th>X</th>\n",
       "      <th>Y</th>\n",
       "      <th>X_controle</th>\n",
       "      <th>Y_controle</th>\n",
       "      <th>W</th>\n",
       "      <th>Xd</th>\n",
       "      <th>Yd</th>\n",
       "      <th>Wd</th>\n",
       "    </tr>\n",
       "  </thead>\n",
       "  <tbody>\n",
       "    <tr>\n",
       "      <th>0</th>\n",
       "      <td>1.688252e+09</td>\n",
       "      <td>0.951408</td>\n",
       "      <td>-0.430652</td>\n",
       "      <td>1.005952</td>\n",
       "      <td>-0.290920</td>\n",
       "      <td>1.198636</td>\n",
       "      <td>0.000476</td>\n",
       "      <td>-0.003812</td>\n",
       "      <td>-0.011071</td>\n",
       "    </tr>\n",
       "    <tr>\n",
       "      <th>1</th>\n",
       "      <td>1.688252e+09</td>\n",
       "      <td>0.951458</td>\n",
       "      <td>-0.430591</td>\n",
       "      <td>1.006005</td>\n",
       "      <td>-0.290861</td>\n",
       "      <td>1.198619</td>\n",
       "      <td>0.002572</td>\n",
       "      <td>0.003357</td>\n",
       "      <td>-0.000087</td>\n",
       "    </tr>\n",
       "    <tr>\n",
       "      <th>2</th>\n",
       "      <td>1.688252e+09</td>\n",
       "      <td>0.951390</td>\n",
       "      <td>-0.430617</td>\n",
       "      <td>1.005928</td>\n",
       "      <td>-0.290883</td>\n",
       "      <td>1.198680</td>\n",
       "      <td>-0.000987</td>\n",
       "      <td>0.001305</td>\n",
       "      <td>0.001953</td>\n",
       "    </tr>\n",
       "    <tr>\n",
       "      <th>3</th>\n",
       "      <td>1.688252e+09</td>\n",
       "      <td>0.951422</td>\n",
       "      <td>-0.430616</td>\n",
       "      <td>1.005956</td>\n",
       "      <td>-0.290880</td>\n",
       "      <td>1.198705</td>\n",
       "      <td>-0.001091</td>\n",
       "      <td>-0.005161</td>\n",
       "      <td>-0.007822</td>\n",
       "    </tr>\n",
       "    <tr>\n",
       "      <th>4</th>\n",
       "      <td>1.688252e+09</td>\n",
       "      <td>0.951406</td>\n",
       "      <td>-0.430617</td>\n",
       "      <td>1.005939</td>\n",
       "      <td>-0.290881</td>\n",
       "      <td>1.198719</td>\n",
       "      <td>-0.002543</td>\n",
       "      <td>-0.001315</td>\n",
       "      <td>0.005487</td>\n",
       "    </tr>\n",
       "  </tbody>\n",
       "</table>\n",
       "</div>"
      ],
      "text/plain": [
       "           Time         X         Y  X_controle  Y_controle         W  \\\n",
       "0  1.688252e+09  0.951408 -0.430652    1.005952   -0.290920  1.198636   \n",
       "1  1.688252e+09  0.951458 -0.430591    1.006005   -0.290861  1.198619   \n",
       "2  1.688252e+09  0.951390 -0.430617    1.005928   -0.290883  1.198680   \n",
       "3  1.688252e+09  0.951422 -0.430616    1.005956   -0.290880  1.198705   \n",
       "4  1.688252e+09  0.951406 -0.430617    1.005939   -0.290881  1.198719   \n",
       "\n",
       "         Xd        Yd        Wd  \n",
       "0  0.000476 -0.003812 -0.011071  \n",
       "1  0.002572  0.003357 -0.000087  \n",
       "2 -0.000987  0.001305  0.001953  \n",
       "3 -0.001091 -0.005161 -0.007822  \n",
       "4 -0.002543 -0.001315  0.005487  "
      ]
     },
     "execution_count": 7,
     "metadata": {},
     "output_type": "execute_result"
    }
   ],
   "source": [
    "pioneer_odom.head()"
   ]
  },
  {
   "cell_type": "code",
   "execution_count": 10,
   "metadata": {},
   "outputs": [],
   "source": [
    "def rotation_matrix(theta):\n",
    "    theta = np.deg2rad(theta)\n",
    "    cos_theta = np.cos(theta)\n",
    "    sin_theta = np.sin(theta)\n",
    "\n",
    "    rotation = np.array([[cos_theta, -sin_theta, 0],\n",
    "                         [sin_theta, cos_theta, 0],\n",
    "                         [0, 0, 1]])\n",
    "\n",
    "    return rotation"
   ]
  },
  {
   "cell_type": "code",
   "execution_count": null,
   "metadata": {},
   "outputs": [],
   "source": [
    "robot_heigth = 0.7/2\n",
    "robot_width = 0.6/2\n",
    "\n",
    "thetas = np.linspace(0, 2 * np.pi, 10)\n",
    "x = robot_heigth * np.cos(thetas)\n",
    "y = robot_width * np.sin(thetas)\n",
    "\n",
    "pioneer = np.array([x, y, np.ones(len(x))])\n",
    "\n",
    "rot_pioneer = np.dot(pioneer.T, rotation_matrix(-yaw))"
   ]
  },
  {
   "cell_type": "code",
   "execution_count": 8,
   "metadata": {},
   "outputs": [
    {
     "data": {
      "text/plain": [
       "[<matplotlib.lines.Line2D at 0x7f30a8184910>]"
      ]
     },
     "execution_count": 8,
     "metadata": {},
     "output_type": "execute_result"
    },
    {
     "data": {
      "image/png": "[encoded data removed]",
      "text/plain": [
       "<Figure size 640x480 with 1 Axes>"
      ]
     },
     "metadata": {},
     "output_type": "display_data"
    }
   ],
   "source": [
    "plt.plot(pioneer_odom['X'], pioneer_odom['Y'])\n",
    "plt.plot(circular_path['X'], circular_path['Y'])\n",
    "\n",
    "theta = np.linspace(0, 2 * np.pi, 100)\n",
    "radius = 0.3/2\n",
    "x = radius * np.cos(theta)\n",
    "y = radius * np.sin(theta)\n",
    "\n",
    "# Plot the circle\n",
    "plt.plot(x-0.916639, y+0.909807, color='b')"
   ]
  },
  {
   "cell_type": "code",
   "execution_count": 9,
   "metadata": {},
   "outputs": [
    {
     "data": {
      "image/png": "[encoded data removed]",
      "text/plain": [
       "<Figure size 640x480 with 1 Axes>"
      ]
     },
     "metadata": {},
     "output_type": "display_data"
    }
   ],
   "source": [
    "plt.axhline(y=0.0, color='r', linestyle='--')\n",
    "\n",
    "plt.plot(obstacle_detection_pioneer['Time'], obstacle_detection_pioneer['X til'])\n",
    "plt.show()\n"
   ]
  }
 ],
 "metadata": {
  "kernelspec": {
   "display_name": ".venv",
   "language": "python",
   "name": "python3"
  },
  "language_info": {
   "codemirror_mode": {
    "name": "ipython",
    "version": 3
   },
   "file_extension": ".py",
   "mimetype": "text/x-python",
   "name": "python",
   "nbconvert_exporter": "python",
   "pygments_lexer": "ipython3",
   "version": "3.10.6"
  },
  "orig_nbformat": 4
 },
 "nbformat": 4,
 "nbformat_minor": 2
}
